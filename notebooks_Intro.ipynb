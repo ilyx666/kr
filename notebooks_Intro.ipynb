{
  "metadata": {
    "kernelspec": {
      "name": "python",
      "display_name": "Python (Pyodide)",
      "language": "python"
    },
    "language_info": {
      "codemirror_mode": {
        "name": "python",
        "version": 3
      },
      "file_extension": ".py",
      "mimetype": "text/x-python",
      "name": "python",
      "nbconvert_exporter": "python",
      "pygments_lexer": "ipython3",
      "version": "3.8"
    }
  },
  "nbformat_minor": 5,
  "nbformat": 4,
  "cells": [
    {
      "cell_type": "code",
      "source": "import piplite\nawait piplite.install('seaborn')\nfrom matplotlib import pyplot as plt\nfrom sklearn.linear_model import LinearRegression\nfrom sklearn.model_selection import train_test_split\nimport seaborn as sns\nimport numpy as np\nimport pandas as pd\nimport os\nimport statsmodels.api as sm\nfrom statsmodels.stats.outliers_influence import variance_inflation_factor",
      "metadata": {
        "trusted": true
      },
      "execution_count": null,
      "outputs": [],
      "id": "fe55883a-6887-43dd-9498-5333a51799e2"
    },
    {
      "cell_type": "markdown",
      "source": "Импортировали",
      "metadata": {},
      "id": "1fb7a99e-9b28-4af5-8580-d0dacba68c97"
    },
    {
      "cell_type": "code",
      "source": "df = pd.read_csv('mcs_ds_edited_iter_shuffled.csv')\ndf.drop('sd_ale', axis = 1)",
      "metadata": {
        "trusted": true
      },
      "execution_count": null,
      "outputs": [],
      "id": "3e7f111f-38b3-4bc3-92c4-258dba5ff856"
    },
    {
      "cell_type": "markdown",
      "source": "Ура!",
      "metadata": {},
      "id": "f93d8084-36dc-4ebe-bb9f-0f8e3e58f1a9"
    },
    {
      "cell_type": "markdown",
      "source": "Рисуем гистрограммы!!!",
      "metadata": {},
      "id": "b54eaabb-9522-4874-86f5-29a0cd125a4c"
    },
    {
      "cell_type": "code",
      "source": "plt.figure\nplt.bar(df['anchor_ratio'], df['ale'], color='blue')\nplt.title('Anchor ratio')\nplt.show()\nplt.bar(df['trans_range'], df['ale'], color='black')\nplt.title('Trans range')\nplt.show()\nplt.bar(df['iterations'], df['ale'], color = 'yellow')\nplt.title('Iteration')\nplt.show()\nplt.bar(df['node_density'], df['ale'])\nplt.title('Node density')\nplt.show()",
      "metadata": {
        "trusted": true
      },
      "execution_count": null,
      "outputs": [],
      "id": "0d379c6f-5392-4092-872c-f262af3bd97a"
    },
    {
      "cell_type": "markdown",
      "source": "Рисуем тепловую карту!!!",
      "metadata": {},
      "id": "b8704d7f-ccb7-49b5-81da-5e3091453778"
    },
    {
      "cell_type": "code",
      "source": "mask = np.zeros_like(df.corr())\ntriangle_indices = np.triu_indices_from(mask)\nmask[triangle_indices] = True\nmask\nplt.figure(figsize=(15,10))\nsns.heatmap(df.corr(), mask=mask, annot=True, annot_kws={'size': 20})\nsns.set_style('white')\nplt.xticks(fontsize=15)\nplt.yticks(fontsize=15)\nplt.show()",
      "metadata": {
        "trusted": true
      },
      "execution_count": null,
      "outputs": [],
      "id": "25ea6af2-212f-4ee2-a26e-c0312e938fba"
    },
    {
      "cell_type": "markdown",
      "source": "Корреляция - Статистическая взаимосвязь двух или более случайных величин, при этом изменения значений одной или нескольких из этих величин сопутствуют систематическому изменению значений другой или других величин.\nХорошая корреляция от 0.2, атрибуты с таргетом имеют хорошую кореляцию. ",
      "metadata": {},
      "id": "9dcee552-f113-431c-83a0-f33ff605dce9"
    },
    {
      "cell_type": "code",
      "source": "    y = np.array(df['ale'])\n    x = np.array(df['anchor_ratio']).reshape(-1, 1)\n    model = LinearRegression()\n    model.fit(x, y)\n    print('coef:', model.coef_)\n    print('score', model.score(x, y))\n    plt.scatter(df['anchor_ratio'], df['ale'], color = 'red', alpha = 0.4)\n    plt.plot(x, model.predict(x))\n    plt.show()",
      "metadata": {
        "trusted": true
      },
      "execution_count": null,
      "outputs": [],
      "id": "08a1a256-1a90-4089-8360-2083b7675837"
    },
    {
      "cell_type": "code",
      "source": "    y = np.array(df['ale'])\n    x = np.array(df['trans_range']).reshape(-1, 1)\n    model = LinearRegression()\n    model.fit(x, y)\n    print('coef:', model.coef_)\n    print('score', model.score(x, y))\n    plt.scatter(df['trans_range'], df['ale'], alpha=0.4)\n    plt.plot(x, model.predict(x))\n    plt.show()",
      "metadata": {
        "trusted": true
      },
      "execution_count": null,
      "outputs": [],
      "id": "49d24998-100e-4031-8099-8b58ba4269fa"
    },
    {
      "cell_type": "code",
      "source": "    y = np.array(df['ale'])\n    x = np.array(df['node_density']).reshape(-1, 1)\n    model = LinearRegression()\n    model.fit(x, y)\n    print('coef:', model.coef_)\n    print('score', model.score(x, y))\n    plt.scatter(df['node_density'], df['ale'], alpha=0.4)\n    plt.plot(x, model.predict(x))\n    plt.show()",
      "metadata": {
        "trusted": true
      },
      "execution_count": null,
      "outputs": [],
      "id": "a89d5db8-67f7-46ab-aa3d-8d5c749db248"
    },
    {
      "cell_type": "code",
      "source": "    y = np.array(df['ale'])\n    x = np.array(df['iterations']).reshape(-1, 1)\n    model = LinearRegression()\n    model.fit(x, y)\n    print('coef:', model.coef_)\n    print('score', model.score(x, y))\n    plt.scatter(df['iterations'], df['ale'], alpha=0.4)\n    plt.plot(x, model.predict(x))\n    plt.show()",
      "metadata": {
        "trusted": true
      },
      "execution_count": null,
      "outputs": [],
      "id": "2edbb90c-e28b-4581-9481-aeb12f408ae1"
    },
    {
      "cell_type": "code",
      "source": "df = pd.read_csv('mcs_ds_edited_iter_shuffled.csv')\nsd = df['ale']\nfeatures = df.drop('ale', axis = 1)\nX_train, X_test, Y_train, Y_test = train_test_split(features,\n                                                    sd, test_size=0.3225, random_state=10)",
      "metadata": {
        "trusted": true
      },
      "execution_count": null,
      "outputs": [],
      "id": "649412f4-42c1-4ac3-8311-be91fe44d97b"
    },
    {
      "cell_type": "code",
      "source": "regr = LinearRegression()\nregr.fit(X_train, Y_train)\nprint('Traning data', regr.score(X_train, Y_train))\nprint('Test data', regr.score(X_test, Y_test))",
      "metadata": {
        "trusted": true
      },
      "execution_count": null,
      "outputs": [],
      "id": "c80b7bd9-e855-461a-bd4c-18abbeaf7e09"
    },
    {
      "cell_type": "code",
      "source": "print('intercept', regr.intercept_)",
      "metadata": {
        "trusted": true
      },
      "execution_count": null,
      "outputs": [],
      "id": "57a5f674-0352-43f2-ba3d-843fe68b061b"
    },
    {
      "cell_type": "code",
      "source": "df.describe()",
      "metadata": {
        "trusted": true
      },
      "execution_count": null,
      "outputs": [],
      "id": "c30f1ca8-32f5-44e5-a1ad-74a6295f9024"
    },
    {
      "cell_type": "code",
      "source": "df['ale'].skew()\n\ndf['ale'].min()\n\ny_log = np.log(df['ale'])\ny_log.tail()\nsns.displot(y_log)\nplt.show()\nxx = np.array(df['ale']).reshape(-1, 1)\nmodel2 = LinearRegression()\nmodel2.fit(xx, y_log)\nsd = df['ale']\nfeatures = df.drop('ale', axis = 1)\nX_train, X_test, Y_train, Y_test = train_test_split(features,\n                                                    sd, test_size=0.33, random_state=10)",
      "metadata": {
        "trusted": true
      },
      "execution_count": null,
      "outputs": [],
      "id": "d19862ee-e508-4d46-8f60-848ac9b86602"
    },
    {
      "cell_type": "code",
      "source": "print('Traning data', regr.score(X_train, Y_train))\nprint('Test data', regr.score(X_test, Y_test))",
      "metadata": {
        "trusted": true
      },
      "execution_count": null,
      "outputs": [],
      "id": "0f283a4f-2bcd-480a-8a8c-9d0db5371c86"
    },
    {
      "cell_type": "code",
      "source": "df.drop('sd_ale', axis = 1)",
      "metadata": {
        "trusted": true
      },
      "execution_count": null,
      "outputs": [],
      "id": "747c0293-acdf-4913-8489-3f679b46fb3a"
    },
    {
      "cell_type": "code",
      "source": "X_incl_const = sd.add_constant(X_train)\nmodel_ = sd.OLS(y_train, X_incl_const)\nresults = model2.fit()\nplt.scatter(x=results.fittedvalues, y=results.resid, alpha=1)\nplt.xlabel('Log prices')\nplt.ylabel('Residuals')\nplt.title('Residuals in prices')\nplt.show()",
      "metadata": {
        "trusted": true
      },
      "execution_count": null,
      "outputs": [],
      "id": "d62fef8f-8b16-45eb-b736-0d9393637da0"
    },
    {
      "cell_type": "code",
      "source": "",
      "metadata": {},
      "execution_count": null,
      "outputs": [],
      "id": "7c6f6300-f35d-484c-a8a4-532ed375811a"
    },
    {
      "cell_type": "code",
      "source": "",
      "metadata": {},
      "execution_count": null,
      "outputs": [],
      "id": "6622ad6a-65a8-4dee-ac56-4fa1764b2f23"
    },
    {
      "cell_type": "code",
      "source": "",
      "metadata": {},
      "execution_count": null,
      "outputs": [],
      "id": "54cb0779-514a-4b2f-8107-2a08e21ed86d"
    }
  ]
}